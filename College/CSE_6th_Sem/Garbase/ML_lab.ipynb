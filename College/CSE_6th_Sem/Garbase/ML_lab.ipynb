{
 "cells": [
  {
   "cell_type": "code",
   "execution_count": 1,
   "id": "d08373c3",
   "metadata": {},
   "outputs": [],
   "source": [
    "import numpy as np"
   ]
  },
  {
   "cell_type": "code",
   "execution_count": 2,
   "id": "e219d890",
   "metadata": {},
   "outputs": [
    {
     "name": "stdout",
     "output_type": "stream",
     "text": [
      "[1 2 3 4]\n",
      "<class 'numpy.ndarray'>\n"
     ]
    }
   ],
   "source": [
    "arr=np.array([1,2,3,4])\n",
    "print(arr)\n",
    "print(type(arr))"
   ]
  },
  {
   "cell_type": "code",
   "execution_count": 3,
   "id": "09618a7f",
   "metadata": {},
   "outputs": [
    {
     "data": {
      "text/plain": [
       "1"
      ]
     },
     "execution_count": 3,
     "metadata": {},
     "output_type": "execute_result"
    }
   ],
   "source": [
    "arr.ndim   #gives dimension"
   ]
  },
  {
   "cell_type": "code",
   "execution_count": 10,
   "id": "82e383bb",
   "metadata": {},
   "outputs": [
    {
     "data": {
      "text/plain": [
       "4"
      ]
     },
     "execution_count": 10,
     "metadata": {},
     "output_type": "execute_result"
    }
   ],
   "source": [
    "arr.size  #gives size of array"
   ]
  },
  {
   "cell_type": "code",
   "execution_count": 11,
   "id": "8f57ea29",
   "metadata": {},
   "outputs": [
    {
     "data": {
      "text/plain": [
       "(4,)"
      ]
     },
     "execution_count": 11,
     "metadata": {},
     "output_type": "execute_result"
    }
   ],
   "source": [
    "arr.shape"
   ]
  },
  {
   "cell_type": "code",
   "execution_count": 12,
   "id": "853877ba",
   "metadata": {},
   "outputs": [
    {
     "name": "stdout",
     "output_type": "stream",
     "text": [
      "[[1 2 3 4]\n",
      " [1 2 3 4]\n",
      " [1 2 3 4]]\n",
      "<class 'numpy.ndarray'>\n"
     ]
    }
   ],
   "source": [
    "arr_2d=np.array([[1,2,3,4],[1,2,3,4],[1,2,3,4]])\n",
    "print(arr_2d)\n",
    "print(type(arr_2d))"
   ]
  },
  {
   "cell_type": "code",
   "execution_count": 13,
   "id": "4e911705",
   "metadata": {},
   "outputs": [
    {
     "data": {
      "text/plain": [
       "2"
      ]
     },
     "execution_count": 13,
     "metadata": {},
     "output_type": "execute_result"
    }
   ],
   "source": [
    "arr_2d.ndim"
   ]
  },
  {
   "cell_type": "code",
   "execution_count": 14,
   "id": "db98c2c4",
   "metadata": {},
   "outputs": [
    {
     "data": {
      "text/plain": [
       "12"
      ]
     },
     "execution_count": 14,
     "metadata": {},
     "output_type": "execute_result"
    }
   ],
   "source": [
    "arr_2d.size"
   ]
  },
  {
   "cell_type": "code",
   "execution_count": 15,
   "id": "e17823a8",
   "metadata": {},
   "outputs": [
    {
     "data": {
      "text/plain": [
       "(3, 4)"
      ]
     },
     "execution_count": 15,
     "metadata": {},
     "output_type": "execute_result"
    }
   ],
   "source": [
    "arr_2d.shape"
   ]
  },
  {
   "cell_type": "code",
   "execution_count": 16,
   "id": "627eec6f",
   "metadata": {},
   "outputs": [
    {
     "name": "stdout",
     "output_type": "stream",
     "text": [
      "[[[1 2 3 4]\n",
      "  [1 2 3 4]\n",
      "  [1 2 3 4]\n",
      "  [1 2 3 4]]\n",
      "\n",
      " [[5 6 7 8]\n",
      "  [5 6 7 8]\n",
      "  [5 6 7 8]\n",
      "  [5 6 7 8]]\n",
      "\n",
      " [[1 3 5 7]\n",
      "  [1 3 5 7]\n",
      "  [1 3 5 7]\n",
      "  [1 3 5 7]]]\n",
      "<class 'numpy.ndarray'>\n"
     ]
    }
   ],
   "source": [
    "arr_md=np.array([[[1,2,3,4],[1,2,3,4],[1,2,3,4],[1,2,3,4]],[[5,6,7,8],[5,6,7,8],[5,6,7,8],[5,6,7,8]],[[1,3,5,7],[1,3,5,7],[1,3,5,7],[1,3,5,7]]])\n",
    "print(arr_md)\n",
    "print(type(arr_md))"
   ]
  },
  {
   "cell_type": "code",
   "execution_count": 17,
   "id": "7072e5e5",
   "metadata": {},
   "outputs": [
    {
     "data": {
      "text/plain": [
       "48"
      ]
     },
     "execution_count": 17,
     "metadata": {},
     "output_type": "execute_result"
    }
   ],
   "source": [
    "arr_md.size"
   ]
  },
  {
   "cell_type": "code",
   "execution_count": 18,
   "id": "01e8b272",
   "metadata": {},
   "outputs": [
    {
     "data": {
      "text/plain": [
       "(3, 4, 4)"
      ]
     },
     "execution_count": 18,
     "metadata": {},
     "output_type": "execute_result"
    }
   ],
   "source": [
    "arr_md.shape"
   ]
  },
  {
   "cell_type": "code",
   "execution_count": 19,
   "id": "1c9c51d2",
   "metadata": {},
   "outputs": [
    {
     "data": {
      "text/plain": [
       "3"
      ]
     },
     "execution_count": 19,
     "metadata": {},
     "output_type": "execute_result"
    }
   ],
   "source": [
    "arr_md.ndim"
   ]
  },
  {
   "cell_type": "code",
   "execution_count": 24,
   "id": "5515e74f",
   "metadata": {},
   "outputs": [
    {
     "name": "stdout",
     "output_type": "stream",
     "text": [
      "[[1 1 1 1 1]\n",
      " [1 1 1 1 1]\n",
      " [1 1 1 1 1]\n",
      " [1 1 1 1 1]\n",
      " [1 1 1 1 1]]\n"
     ]
    }
   ],
   "source": [
    "arr_1=np.ones((5,5),dtype=int)  # bydefault float value accepted\n",
    "print(arr_1)"
   ]
  },
  {
   "cell_type": "code",
   "execution_count": 26,
   "id": "564d0413",
   "metadata": {},
   "outputs": [
    {
     "name": "stdout",
     "output_type": "stream",
     "text": [
      "[[0 0 0 0 0]\n",
      " [0 0 0 0 0]\n",
      " [0 0 0 0 0]\n",
      " [0 0 0 0 0]\n",
      " [0 0 0 0 0]]\n"
     ]
    }
   ],
   "source": [
    "arr_0=np.zeros((5,5),dtype=int)  # bydefault float\n",
    "print(arr_0)"
   ]
  },
  {
   "cell_type": "code",
   "execution_count": 27,
   "id": "41efeb0c",
   "metadata": {},
   "outputs": [
    {
     "name": "stdout",
     "output_type": "stream",
     "text": [
      "[[ True  True  True  True  True]\n",
      " [ True  True  True  True  True]\n",
      " [ True  True  True  True  True]\n",
      " [ True  True  True  True  True]\n",
      " [ True  True  True  True  True]]\n"
     ]
    }
   ],
   "source": [
    "arr_1=np.ones((5,5),dtype=bool)  # bydefault float value accepted\n",
    "print(arr_1)"
   ]
  },
  {
   "cell_type": "code",
   "execution_count": null,
   "id": "96367653",
   "metadata": {},
   "outputs": [],
   "source": [
    "# ones\n",
    "# zeros\n",
    "# empty\n",
    "# arange\n",
    "# arange(start,end,step)"
   ]
  },
  {
   "cell_type": "code",
   "execution_count": 28,
   "id": "314c3316",
   "metadata": {},
   "outputs": [
    {
     "data": {
      "text/plain": [
       "array([[1., 0., 0.],\n",
       "       [0., 1., 0.],\n",
       "       [0., 0., 1.]])"
      ]
     },
     "execution_count": 28,
     "metadata": {},
     "output_type": "execute_result"
    }
   ],
   "source": [
    "e=np.eye(3)  # for creating identical matrix\n",
    "e"
   ]
  },
  {
   "cell_type": "code",
   "execution_count": 41,
   "id": "83e57a5e",
   "metadata": {},
   "outputs": [
    {
     "data": {
      "text/plain": [
       "array([[0., 0., 0., 0., 0.],\n",
       "       [0., 0., 0., 0., 0.],\n",
       "       [0., 0., 0., 0., 0.],\n",
       "       [0., 0., 0., 0., 0.],\n",
       "       [0., 0., 0., 0., 0.]])"
      ]
     },
     "execution_count": 41,
     "metadata": {},
     "output_type": "execute_result"
    }
   ],
   "source": [
    "x=np.empty((5,5))  #random values #bydefault floating values\n",
    "x"
   ]
  },
  {
   "cell_type": "code",
   "execution_count": 42,
   "id": "a7574c47",
   "metadata": {},
   "outputs": [
    {
     "data": {
      "text/plain": [
       "array([[        50,         48,         50,         51,         45],\n",
       "       [        48,         50,         45,         48,         51],\n",
       "       [        84,         48,         53,         58,         49],\n",
       "       [        56,         58,         50,         54,         46],\n",
       "       [        52,         50,         53,         90, 1714764081]])"
      ]
     },
     "execution_count": 42,
     "metadata": {},
     "output_type": "execute_result"
    }
   ],
   "source": [
    "x=np.empty((5,5),dtype=int)  #random values #bydefault floating values\n",
    "x"
   ]
  },
  {
   "cell_type": "code",
   "execution_count": 43,
   "id": "1684f5b3",
   "metadata": {},
   "outputs": [
    {
     "data": {
      "text/plain": [
       "array([[4.2, 4.2, 4.2, 4.2, 4.2],\n",
       "       [4.2, 4.2, 4.2, 4.2, 4.2],\n",
       "       [4.2, 4.2, 4.2, 4.2, 4.2],\n",
       "       [4.2, 4.2, 4.2, 4.2, 4.2],\n",
       "       [4.2, 4.2, 4.2, 4.2, 4.2]])"
      ]
     },
     "execution_count": 43,
     "metadata": {},
     "output_type": "execute_result"
    }
   ],
   "source": [
    "f=np.full((5,5),4.2)         #fill whole array with specific value\n",
    "f"
   ]
  },
  {
   "cell_type": "code",
   "execution_count": 44,
   "id": "869a3363",
   "metadata": {},
   "outputs": [
    {
     "data": {
      "text/plain": [
       "array([[[4.78, 4.78, 4.78, 4.78, 4.78],\n",
       "        [4.78, 4.78, 4.78, 4.78, 4.78],\n",
       "        [4.78, 4.78, 4.78, 4.78, 4.78],\n",
       "        [4.78, 4.78, 4.78, 4.78, 4.78],\n",
       "        [4.78, 4.78, 4.78, 4.78, 4.78]],\n",
       "\n",
       "       [[4.78, 4.78, 4.78, 4.78, 4.78],\n",
       "        [4.78, 4.78, 4.78, 4.78, 4.78],\n",
       "        [4.78, 4.78, 4.78, 4.78, 4.78],\n",
       "        [4.78, 4.78, 4.78, 4.78, 4.78],\n",
       "        [4.78, 4.78, 4.78, 4.78, 4.78]]])"
      ]
     },
     "execution_count": 44,
     "metadata": {},
     "output_type": "execute_result"
    }
   ],
   "source": [
    "f=np.full((2,5,5),4.78)         #fill whole array with specific value\n",
    "f"
   ]
  },
  {
   "cell_type": "code",
   "execution_count": 50,
   "id": "90a37159",
   "metadata": {},
   "outputs": [
    {
     "data": {
      "text/plain": [
       "array([35, 34, 44, 42, 38, 10,  1, 42, 38,  4, 51, 36, 59, 16, 62, 23, 58,\n",
       "       34, 66, 18, 32, 18, 57, 56, 30, 10, 19, 17, 47,  9])"
      ]
     },
     "execution_count": 50,
     "metadata": {},
     "output_type": "execute_result"
    }
   ],
   "source": [
    "from numpy import random\n",
    "\n",
    "i=np.random.randint(70,size=30)  # 70 denote lat value\n",
    "i"
   ]
  },
  {
   "cell_type": "code",
   "execution_count": 59,
   "id": "473b04bf",
   "metadata": {},
   "outputs": [
    {
     "data": {
      "text/plain": [
       "32"
      ]
     },
     "execution_count": 59,
     "metadata": {},
     "output_type": "execute_result"
    }
   ],
   "source": [
    "x=[35,65,76,43,75,32,89]\n",
    "\n",
    "random.choice(x)  "
   ]
  },
  {
   "cell_type": "code",
   "execution_count": 60,
   "id": "dc0dae03",
   "metadata": {},
   "outputs": [
    {
     "data": {
      "text/plain": [
       "array([43, 32, 76, 76, 32, 65, 43, 35, 43, 35, 43, 35, 65, 43, 75, 35, 89,\n",
       "       35, 89, 32, 76, 32, 43, 89, 76, 76, 32, 76, 32, 89])"
      ]
     },
     "execution_count": 60,
     "metadata": {},
     "output_type": "execute_result"
    }
   ],
   "source": [
    "y=[35,65,76,43,75,32,89]\n",
    "\n",
    "random.choice(y,size=30)  "
   ]
  },
  {
   "cell_type": "code",
   "execution_count": 67,
   "id": "b44c905e",
   "metadata": {},
   "outputs": [
    {
     "data": {
      "text/plain": [
       "array([[0.95798978, 0.20423619, 0.19104971, 0.52776688, 0.80154265],\n",
       "       [0.7804584 , 0.90495621, 0.25971451, 0.53347214, 0.12309354],\n",
       "       [0.7751399 , 0.57574346, 0.56584336, 0.27386524, 0.04028968],\n",
       "       [0.39540378, 0.80354226, 0.19472656, 0.03897703, 0.83026833],\n",
       "       [0.99818325, 0.28358608, 0.4757365 , 0.00396626, 0.00106614]])"
      ]
     },
     "execution_count": 67,
     "metadata": {},
     "output_type": "execute_result"
    }
   ],
   "source": [
    "t=random.rand(5,5)\n",
    "t"
   ]
  },
  {
   "cell_type": "code",
   "execution_count": 85,
   "id": "05195428",
   "metadata": {},
   "outputs": [
    {
     "data": {
      "text/plain": [
       "array([[0.77132064, 0.02075195, 0.63364823, 0.74880388, 0.49850701],\n",
       "       [0.22479665, 0.19806286, 0.76053071, 0.16911084, 0.08833981],\n",
       "       [0.68535982, 0.95339335, 0.00394827, 0.51219226, 0.81262096],\n",
       "       [0.61252607, 0.72175532, 0.29187607, 0.91777412, 0.71457578],\n",
       "       [0.54254437, 0.14217005, 0.37334076, 0.67413362, 0.44183317]])"
      ]
     },
     "execution_count": 85,
     "metadata": {},
     "output_type": "execute_result"
    }
   ],
   "source": [
    "# seed function generate constant random values\n",
    "\n",
    "random.seed(10)\n",
    "t=random.rand(5,5)\n",
    "t"
   ]
  },
  {
   "cell_type": "code",
   "execution_count": 87,
   "id": "0d584d58",
   "metadata": {},
   "outputs": [
    {
     "data": {
      "text/plain": [
       "array([0.43401399, 0.61776698, 0.51313824, 0.65039718, 0.60103895,\n",
       "       0.8052232 , 0.52164715, 0.90864888, 0.31923609, 0.09045935,\n",
       "       0.30070006, 0.11398436, 0.82868133, 0.04689632, 0.62628715,\n",
       "       0.54758616, 0.819287  , 0.19894754, 0.8568503 , 0.35165264,\n",
       "       0.75464769, 0.29596171, 0.88393648, 0.32551164, 0.1650159 ,\n",
       "       0.39252924, 0.09346037, 0.82110566, 0.15115202, 0.38411445,\n",
       "       0.94426071, 0.98762547, 0.45630455, 0.82612284, 0.25137413,\n",
       "       0.59737165, 0.90283176, 0.53455795, 0.59020136, 0.03928177,\n",
       "       0.35718176, 0.07961309, 0.30545992, 0.33071931, 0.7738303 ,\n",
       "       0.03995921, 0.42949218, 0.31492687, 0.63649114, 0.34634715,\n",
       "       0.04309736, 0.87991517, 0.76324059, 0.87809664, 0.41750914,\n",
       "       0.60557756, 0.51346663, 0.59783665, 0.26221566, 0.30087131,\n",
       "       0.02539978, 0.30306256, 0.24207588, 0.55757819, 0.56550702,\n",
       "       0.47513225, 0.29279798, 0.06425106, 0.97881915, 0.33970784])"
      ]
     },
     "execution_count": 87,
     "metadata": {},
     "output_type": "execute_result"
    }
   ],
   "source": [
    "j=np.random.ranf(70)  # 70 denote lat value\n",
    "j"
   ]
  },
  {
   "cell_type": "code",
   "execution_count": 88,
   "id": "cc1ea216",
   "metadata": {},
   "outputs": [
    {
     "name": "stdout",
     "output_type": "stream",
     "text": [
      "[[ 1  2  3  4]\n",
      " [ 5  6  7  8]\n",
      " [ 9 10 11 12]]\n",
      "<class 'numpy.ndarray'>\n"
     ]
    }
   ],
   "source": [
    "arr_2dd=np.array([[1,2,3,4],[5,6,7,8],[9,10,11,12]])\n",
    "print(arr_2dd)\n",
    "print(type(arr_2d))"
   ]
  },
  {
   "cell_type": "code",
   "execution_count": 89,
   "id": "276d8429",
   "metadata": {},
   "outputs": [
    {
     "data": {
      "text/plain": [
       "2"
      ]
     },
     "execution_count": 89,
     "metadata": {},
     "output_type": "execute_result"
    }
   ],
   "source": [
    "arr_2dd.ndim"
   ]
  },
  {
   "cell_type": "code",
   "execution_count": 90,
   "id": "f23dcd0e",
   "metadata": {},
   "outputs": [
    {
     "data": {
      "text/plain": [
       "(3, 4)"
      ]
     },
     "execution_count": 90,
     "metadata": {},
     "output_type": "execute_result"
    }
   ],
   "source": [
    "arr_2dd.shape"
   ]
  },
  {
   "cell_type": "code",
   "execution_count": 97,
   "id": "11e4fbd6",
   "metadata": {},
   "outputs": [
    {
     "name": "stdout",
     "output_type": "stream",
     "text": [
      "[1 2 3 4]\n",
      "4\n",
      "[5 6 7 8]\n"
     ]
    }
   ],
   "source": [
    "print(arr_2dd[0])                 #indexing\n",
    "print(arr_2dd[0][3])\n",
    "print(arr_2dd[1])"
   ]
  },
  {
   "cell_type": "code",
   "execution_count": 99,
   "id": "4a0dab95",
   "metadata": {},
   "outputs": [
    {
     "data": {
      "text/plain": [
       "array([[ 2,  3],\n",
       "       [ 6,  7],\n",
       "       [10, 11]])"
      ]
     },
     "execution_count": 99,
     "metadata": {},
     "output_type": "execute_result"
    }
   ],
   "source": [
    "#slicing\n",
    "\n",
    "arr_2dd[0:3,1:3]"
   ]
  },
  {
   "cell_type": "code",
   "execution_count": 101,
   "id": "f1df74b7",
   "metadata": {},
   "outputs": [
    {
     "data": {
      "text/plain": [
       "array([[3, 4],\n",
       "       [7, 8]])"
      ]
     },
     "execution_count": 101,
     "metadata": {},
     "output_type": "execute_result"
    }
   ],
   "source": [
    "arr_2dd[0:2,2:4]"
   ]
  },
  {
   "cell_type": "code",
   "execution_count": 103,
   "id": "9245542f",
   "metadata": {},
   "outputs": [
    {
     "name": "stdout",
     "output_type": "stream",
     "text": [
      "[[1]\n",
      " [5]\n",
      " [9]]\n",
      "[[ 6  7]\n",
      " [10 11]]\n"
     ]
    }
   ],
   "source": [
    "print(arr_2dd[0:3,0:1])\n",
    "print(arr_2dd[1:3,1:3])  #goes to end-1"
   ]
  },
  {
   "cell_type": "code",
   "execution_count": 106,
   "id": "3e2d17cd",
   "metadata": {},
   "outputs": [
    {
     "name": "stdout",
     "output_type": "stream",
     "text": [
      "[ 1  2  3  4  5  6  7  8  9 10 11 12]\n"
     ]
    }
   ],
   "source": [
    "arr=np.arange(1,13)              #goes up to end-1\n",
    "print(arr)"
   ]
  },
  {
   "cell_type": "code",
   "execution_count": 112,
   "id": "acff012b",
   "metadata": {},
   "outputs": [
    {
     "name": "stdout",
     "output_type": "stream",
     "text": [
      "[ 1  3  5  7  9 11]\n"
     ]
    }
   ],
   "source": [
    "arr1=np.arange(1,12,2)              #goes up to end-1\n",
    "print(arr1)"
   ]
  },
  {
   "cell_type": "code",
   "execution_count": 113,
   "id": "75714f25",
   "metadata": {},
   "outputs": [
    {
     "name": "stdout",
     "output_type": "stream",
     "text": [
      "[1.         1.04081633 1.08163265 1.12244898 1.16326531 1.20408163\n",
      " 1.24489796 1.28571429 1.32653061 1.36734694 1.40816327 1.44897959\n",
      " 1.48979592 1.53061224 1.57142857 1.6122449  1.65306122 1.69387755\n",
      " 1.73469388 1.7755102  1.81632653 1.85714286 1.89795918 1.93877551\n",
      " 1.97959184 2.02040816 2.06122449 2.10204082 2.14285714 2.18367347\n",
      " 2.2244898  2.26530612 2.30612245 2.34693878 2.3877551  2.42857143\n",
      " 2.46938776 2.51020408 2.55102041 2.59183673 2.63265306 2.67346939\n",
      " 2.71428571 2.75510204 2.79591837 2.83673469 2.87755102 2.91836735\n",
      " 2.95918367 3.        ]\n"
     ]
    }
   ],
   "source": [
    "#linspace()            work as arange but we want more value in definit range  with equal space in all the values\n",
    "\n",
    "arr2=np.linspace(1,3,50)              #50 shows number of values  \n",
    "print(arr2)"
   ]
  },
  {
   "cell_type": "code",
   "execution_count": null,
   "id": "3eb268f5",
   "metadata": {},
   "outputs": [],
   "source": [
    "#arange function and linspace function always generates one dimensional array"
   ]
  },
  {
   "cell_type": "code",
   "execution_count": 115,
   "id": "bd9a8578",
   "metadata": {},
   "outputs": [
    {
     "data": {
      "text/plain": [
       "array([[1.        , 1.04081633, 1.08163265, 1.12244898, 1.16326531,\n",
       "        1.20408163, 1.24489796, 1.28571429, 1.32653061, 1.36734694],\n",
       "       [1.40816327, 1.44897959, 1.48979592, 1.53061224, 1.57142857,\n",
       "        1.6122449 , 1.65306122, 1.69387755, 1.73469388, 1.7755102 ],\n",
       "       [1.81632653, 1.85714286, 1.89795918, 1.93877551, 1.97959184,\n",
       "        2.02040816, 2.06122449, 2.10204082, 2.14285714, 2.18367347],\n",
       "       [2.2244898 , 2.26530612, 2.30612245, 2.34693878, 2.3877551 ,\n",
       "        2.42857143, 2.46938776, 2.51020408, 2.55102041, 2.59183673],\n",
       "       [2.63265306, 2.67346939, 2.71428571, 2.75510204, 2.79591837,\n",
       "        2.83673469, 2.87755102, 2.91836735, 2.95918367, 3.        ]])"
      ]
     },
     "execution_count": 115,
     "metadata": {},
     "output_type": "execute_result"
    }
   ],
   "source": [
    "arr3=arr2.reshape(5,10)\n",
    "arr3"
   ]
  },
  {
   "cell_type": "code",
   "execution_count": 116,
   "id": "07a7ff67",
   "metadata": {},
   "outputs": [
    {
     "name": "stdout",
     "output_type": "stream",
     "text": [
      "[1.         1.04081633 1.08163265 1.12244898 1.16326531 1.20408163\n",
      " 1.24489796 1.28571429 1.32653061 1.36734694 1.40816327 1.44897959\n",
      " 1.48979592 1.53061224 1.57142857 1.6122449  1.65306122 1.69387755\n",
      " 1.73469388 1.7755102  1.81632653 1.85714286 1.89795918 1.93877551\n",
      " 1.97959184 2.02040816 2.06122449 2.10204082 2.14285714 2.18367347\n",
      " 2.2244898  2.26530612 2.30612245 2.34693878 2.3877551  2.42857143\n",
      " 2.46938776 2.51020408 2.55102041 2.59183673 2.63265306 2.67346939\n",
      " 2.71428571 2.75510204 2.79591837 2.83673469 2.87755102 2.91836735\n",
      " 2.95918367 3.        ]\n"
     ]
    }
   ],
   "source": [
    "# convert the multidimentional array in one dimensional  --ravel function\n",
    "\n",
    "print(arr3.ravel())"
   ]
  },
  {
   "cell_type": "code",
   "execution_count": 121,
   "id": "b864eba5",
   "metadata": {},
   "outputs": [
    {
     "name": "stdout",
     "output_type": "stream",
     "text": [
      "[ 1  2  3  4  5  6  7  8  9 10 11 12 13 14 15 16 17 18 19 20]\n",
      "\n",
      "[[ 1  2  3  4  5]\n",
      " [ 6  7  8  9 10]\n",
      " [11 12 13 14 15]\n",
      " [16 17 18 19 20]]\n",
      "\n",
      "[[ 7  8  9]\n",
      " [12 13 14]]\n"
     ]
    }
   ],
   "source": [
    "task=np.arange(1,21)\n",
    "print(task)\n",
    "print()\n",
    "\n",
    "\n",
    "\n",
    "task1=task.reshape(4,5)\n",
    "print(task1)\n",
    "print()\n",
    "\n",
    "print(task1[1:3,1:4])"
   ]
  },
  {
   "cell_type": "code",
   "execution_count": null,
   "id": "cde09bfb",
   "metadata": {},
   "outputs": [],
   "source": []
  },
  {
   "cell_type": "code",
   "execution_count": null,
   "id": "06cf8b56",
   "metadata": {},
   "outputs": [],
   "source": []
  },
  {
   "cell_type": "code",
   "execution_count": null,
   "id": "739e3a1e",
   "metadata": {},
   "outputs": [],
   "source": []
  },
  {
   "cell_type": "code",
   "execution_count": null,
   "id": "84d537c2",
   "metadata": {},
   "outputs": [],
   "source": []
  },
  {
   "cell_type": "code",
   "execution_count": null,
   "id": "2fd74086",
   "metadata": {},
   "outputs": [],
   "source": []
  },
  {
   "cell_type": "code",
   "execution_count": null,
   "id": "91754169",
   "metadata": {},
   "outputs": [],
   "source": []
  },
  {
   "cell_type": "code",
   "execution_count": null,
   "id": "042e8922",
   "metadata": {},
   "outputs": [],
   "source": []
  },
  {
   "cell_type": "code",
   "execution_count": null,
   "id": "51213951",
   "metadata": {},
   "outputs": [],
   "source": []
  },
  {
   "cell_type": "code",
   "execution_count": null,
   "id": "09f560fc",
   "metadata": {},
   "outputs": [],
   "source": []
  },
  {
   "cell_type": "code",
   "execution_count": null,
   "id": "953aff2c",
   "metadata": {},
   "outputs": [],
   "source": []
  },
  {
   "cell_type": "code",
   "execution_count": null,
   "id": "5c21e90d",
   "metadata": {},
   "outputs": [],
   "source": []
  },
  {
   "cell_type": "code",
   "execution_count": null,
   "id": "b7773088",
   "metadata": {},
   "outputs": [],
   "source": []
  },
  {
   "cell_type": "code",
   "execution_count": null,
   "id": "3f632657",
   "metadata": {},
   "outputs": [],
   "source": []
  },
  {
   "cell_type": "code",
   "execution_count": null,
   "id": "a5b41704",
   "metadata": {},
   "outputs": [],
   "source": []
  },
  {
   "cell_type": "code",
   "execution_count": null,
   "id": "6f6defc0",
   "metadata": {},
   "outputs": [],
   "source": []
  }
 ],
 "metadata": {
  "kernelspec": {
   "display_name": "Python 3 (ipykernel)",
   "language": "python",
   "name": "python3"
  },
  "language_info": {
   "codemirror_mode": {
    "name": "ipython",
    "version": 3
   },
   "file_extension": ".py",
   "mimetype": "text/x-python",
   "name": "python",
   "nbconvert_exporter": "python",
   "pygments_lexer": "ipython3",
   "version": "3.9.12"
  }
 },
 "nbformat": 4,
 "nbformat_minor": 5
}
