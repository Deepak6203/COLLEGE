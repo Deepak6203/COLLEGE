{
 "cells": [
  {
   "cell_type": "code",
   "execution_count": 7,
   "id": "14f1fc54",
   "metadata": {},
   "outputs": [
    {
     "ename": "SyntaxError",
     "evalue": "invalid syntax (2954754196.py, line 4)",
     "output_type": "error",
     "traceback": [
      "\u001b[1;36m  File \u001b[1;32m\"C:\\Users\\deepa\\AppData\\Local\\Temp\\ipykernel_2664\\2954754196.py\"\u001b[1;36m, line \u001b[1;32m4\u001b[0m\n\u001b[1;33m    if (email  True or Email==True):\u001b[0m\n\u001b[1;37m               ^\u001b[0m\n\u001b[1;31mSyntaxError\u001b[0m\u001b[1;31m:\u001b[0m invalid syntax\n"
     ]
    }
   ],
   "source": [
    "def verify():\n",
    "    email = \"deepakraj6203kumar@gmail.com\"\n",
    "    Email = \"deepakraj6203kumar@gmail.com\"\n",
    "    if (email  True or Email==True):\n",
    "        print(email)\n",
    "        print(Email)\n",
    "\n",
    "\n",
    "#     return (\"Without IF\",email)\n",
    "\n",
    "print(verify())"
   ]
  },
  {
   "cell_type": "code",
   "execution_count": 18,
   "id": "c9d7b6a0",
   "metadata": {},
   "outputs": [
    {
     "name": "stdout",
     "output_type": "stream",
     "text": [
      "[('', 'deepakraj6203kumar@gmail.com')]\n",
      "True\n"
     ]
    }
   ],
   "source": [
    "def verify():\n",
    "    email = \"\"\n",
    "    Email = \"deepakraj6203kumar@gmail.com\"\n",
    "    if email or Email:\n",
    "        sameemail = email,Email\n",
    "        print([sameemail])\n",
    "        return True\n",
    "    else:\n",
    "        return False\n",
    "print(verify())"
   ]
  },
  {
   "cell_type": "code",
   "execution_count": 19,
   "id": "5e4760a6",
   "metadata": {},
   "outputs": [
    {
     "name": "stdout",
     "output_type": "stream",
     "text": [
      "['deepakraj6203kumar@gmail.com']\n",
      "True\n"
     ]
    }
   ],
   "source": [
    "def verify():\n",
    "    Email = \"deepakraj6203kumar@gmail.com\"\n",
    "    if Email:\n",
    "        sameemail = Email\n",
    "        print([sameemail])\n",
    "        return True\n",
    "    else:\n",
    "        return False\n",
    "print(verify())"
   ]
  },
  {
   "cell_type": "code",
   "execution_count": 27,
   "id": "67787d42",
   "metadata": {},
   "outputs": [
    {
     "name": "stdout",
     "output_type": "stream",
     "text": [
      "deepakraj6203kumar@gmail.co\n",
      "True\n"
     ]
    }
   ],
   "source": [
    "def verify():\n",
    "    email = \"deepakraj6203kumar@gmail.co\"\n",
    "    Email = \"deepakraj6203kumar@gmail.com\"\n",
    "    if email or Email:\n",
    "        sameemail = email or Email\n",
    "        print(sameemail)\n",
    "        return True\n",
    "    else:\n",
    "        return False\n",
    "\n",
    "print(verify())\n"
   ]
  },
  {
   "cell_type": "code",
   "execution_count": null,
   "id": "60abdc90",
   "metadata": {},
   "outputs": [],
   "source": []
  },
  {
   "cell_type": "code",
   "execution_count": null,
   "id": "b97b462c",
   "metadata": {},
   "outputs": [],
   "source": []
  },
  {
   "cell_type": "code",
   "execution_count": null,
   "id": "1180152d",
   "metadata": {},
   "outputs": [],
   "source": []
  },
  {
   "cell_type": "code",
   "execution_count": null,
   "id": "c648ede9",
   "metadata": {},
   "outputs": [],
   "source": []
  },
  {
   "cell_type": "code",
   "execution_count": null,
   "id": "7c735fb7",
   "metadata": {},
   "outputs": [],
   "source": []
  }
 ],
 "metadata": {
  "kernelspec": {
   "display_name": "Python 3 (ipykernel)",
   "language": "python",
   "name": "python3"
  },
  "language_info": {
   "codemirror_mode": {
    "name": "ipython",
    "version": 3
   },
   "file_extension": ".py",
   "mimetype": "text/x-python",
   "name": "python",
   "nbconvert_exporter": "python",
   "pygments_lexer": "ipython3",
   "version": "3.9.13"
  }
 },
 "nbformat": 4,
 "nbformat_minor": 5
}
