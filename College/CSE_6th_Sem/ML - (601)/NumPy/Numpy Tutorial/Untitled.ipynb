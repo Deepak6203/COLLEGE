{
 "cells": [
  {
   "cell_type": "code",
   "execution_count": null,
   "id": "7c8ba866",
   "metadata": {},
   "outputs": [],
   "source": [
    "! pip install random"
   ]
  },
  {
   "cell_type": "code",
   "execution_count": 9,
   "id": "ad6e7b8b",
   "metadata": {},
   "outputs": [],
   "source": [
    "from random import Random\n",
    "from math import ldexp\n",
    "\n",
    "class FullRandom(Random):\n",
    "\n",
    "    def random(self):\n",
    "        mantissa = 0x10_0000_0000_0000 | self.getrandbits(52)\n",
    "        exponent = -53\n",
    "        x = 0\n",
    "        while not x:\n",
    "            x = self.getrandbits(32)\n",
    "            exponent += x.bit_length() - 32\n",
    "        return ldexp(mantissa, exponent)"
   ]
  },
  {
   "cell_type": "code",
   "execution_count": 33,
   "id": "c84034ac",
   "metadata": {},
   "outputs": [
    {
     "data": {
      "text/plain": [
       "1.3333121356565924e-15"
      ]
     },
     "execution_count": 33,
     "metadata": {},
     "output_type": "execute_result"
    }
   ],
   "source": [
    "fr = FullRandom()\n",
    "fr.random()\n",
    "\n",
    "fr.expovariate(681902089975925)"
   ]
  },
  {
   "cell_type": "code",
   "execution_count": 365,
   "id": "bb06fa56",
   "metadata": {},
   "outputs": [
    {
     "name": "stdout",
     "output_type": "stream",
     "text": [
      "Unique Id : 48yvz\n",
      "5\n"
     ]
    }
   ],
   "source": [
    "import random\n",
    "import string\n",
    "\n",
    "nDigitId = 5\n",
    "\n",
    "uniqueID = ''.join(random.choices(string.digits + string.ascii_lowercase + string.digits, k=nDigitId))\n",
    "print(\"Unique Id :\", uniqueID)\n",
    "print(len(uniqueID))"
   ]
  },
  {
   "cell_type": "code",
   "execution_count": null,
   "id": "3352cd20",
   "metadata": {},
   "outputs": [],
   "source": []
  },
  {
   "cell_type": "code",
   "execution_count": null,
   "id": "4e15a018",
   "metadata": {},
   "outputs": [],
   "source": []
  },
  {
   "cell_type": "code",
   "execution_count": null,
   "id": "87dce229",
   "metadata": {},
   "outputs": [],
   "source": []
  },
  {
   "cell_type": "code",
   "execution_count": null,
   "id": "cf1aa194",
   "metadata": {},
   "outputs": [],
   "source": []
  }
 ],
 "metadata": {
  "kernelspec": {
   "display_name": "Python 3 (ipykernel)",
   "language": "python",
   "name": "python3"
  },
  "language_info": {
   "codemirror_mode": {
    "name": "ipython",
    "version": 3
   },
   "file_extension": ".py",
   "mimetype": "text/x-python",
   "name": "python",
   "nbconvert_exporter": "python",
   "pygments_lexer": "ipython3",
   "version": "3.9.13"
  }
 },
 "nbformat": 4,
 "nbformat_minor": 5
}
