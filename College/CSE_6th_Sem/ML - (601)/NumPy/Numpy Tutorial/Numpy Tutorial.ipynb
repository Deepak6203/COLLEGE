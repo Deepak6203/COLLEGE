{
 "cells": [
  {
   "cell_type": "code",
   "execution_count": 14,
   "id": "cc221384",
   "metadata": {},
   "outputs": [
    {
     "data": {
      "text/plain": [
       "array([  1,   2, -56,   4,   5], dtype=int8)"
      ]
     },
     "execution_count": 14,
     "metadata": {},
     "output_type": "execute_result"
    }
   ],
   "source": [
    "import numpy as np\n",
    "myarr = np.array([1,2,200,4,5], np.int8)\n",
    "myarr"
   ]
  },
  {
   "cell_type": "code",
   "execution_count": 15,
   "id": "a52e4a27",
   "metadata": {},
   "outputs": [
    {
     "data": {
      "text/plain": [
       "dtype('int8')"
      ]
     },
     "execution_count": 15,
     "metadata": {},
     "output_type": "execute_result"
    }
   ],
   "source": [
    "myarr.dtype"
   ]
  },
  {
   "cell_type": "code",
   "execution_count": 20,
   "id": "2ac22ccf",
   "metadata": {},
   "outputs": [
    {
     "data": {
      "text/plain": [
       "array([ 1.,  2.,  3.,  4.,  5.,  6.,  7.,  8.,  9., 10., 11., 12., 13.,\n",
       "       14., 15.])"
      ]
     },
     "execution_count": 20,
     "metadata": {},
     "output_type": "execute_result"
    }
   ],
   "source": [
    "linspace = np.linspace(1, 15, 15)\n",
    "linspace"
   ]
  },
  {
   "cell_type": "code",
   "execution_count": 24,
   "id": "3c017b9c",
   "metadata": {},
   "outputs": [
    {
     "data": {
      "text/plain": [
       "array([[1., 0., 0., 0., 0.],\n",
       "       [0., 1., 0., 0., 0.],\n",
       "       [0., 0., 1., 0., 0.],\n",
       "       [0., 0., 0., 1., 0.],\n",
       "       [0., 0., 0., 0., 1.]])"
      ]
     },
     "execution_count": 24,
     "metadata": {},
     "output_type": "execute_result"
    }
   ],
   "source": [
    "identity = np.identity(5)\n",
    "identity"
   ]
  },
  {
   "cell_type": "code",
   "execution_count": 38,
   "id": "eadae98b",
   "metadata": {},
   "outputs": [
    {
     "data": {
      "text/plain": [
       "array([12, 15, 18])"
      ]
     },
     "execution_count": 38,
     "metadata": {},
     "output_type": "execute_result"
    }
   ],
   "source": [
    "array = np.array([1,2,3,4,5,6,7,8,9])\n",
    "# array([[1, 2, 3],\n",
    "#        [4, 5, 6],\n",
    "#        [7, 8, 9]])\n",
    "array\n",
    "reshape = array.reshape(3,3)\n",
    "reshape\n",
    "\n",
    "reshape.sum(axis=0)\n",
    "\n"
   ]
  },
  {
   "cell_type": "code",
   "execution_count": 46,
   "id": "15bcffa5",
   "metadata": {},
   "outputs": [
    {
     "name": "stdout",
     "output_type": "stream",
     "text": [
      "[[ 0  1  2  3]\n",
      " [ 4  5  6  7]\n",
      " [ 8  9 10 11]\n",
      " [12 13 14 15]]\n"
     ]
    },
    {
     "data": {
      "text/plain": [
       "array([ 6, 22, 38, 54])"
      ]
     },
     "execution_count": 46,
     "metadata": {},
     "output_type": "execute_result"
    }
   ],
   "source": [
    "array2 = np.arange(16)\n",
    "array2 = array2.reshape(4,4)\n",
    "print(array2)\n",
    "array2.sum(axis=1)"
   ]
  },
  {
   "cell_type": "code",
   "execution_count": 50,
   "id": "793f0146",
   "metadata": {},
   "outputs": [
    {
     "name": "stdout",
     "output_type": "stream",
     "text": [
      "Transpose Array : \n",
      " [[ 0  4  8 12]\n",
      " [ 1  5  9 13]\n",
      " [ 2  6 10 14]\n",
      " [ 3  7 11 15]]\n"
     ]
    }
   ],
   "source": [
    "array2 = np.arange(16)\n",
    "array2 = array2.reshape(4,4)\n",
    "array2 = array2.T\n",
    "print(\"Transpose Array : \\n\",array2)\n"
   ]
  },
  {
   "cell_type": "code",
   "execution_count": 53,
   "id": "9b250c76",
   "metadata": {},
   "outputs": [
    {
     "name": "stdout",
     "output_type": "stream",
     "text": [
      "Transpose Array : \n",
      " <numpy.flatiter object at 0x000001CF99DFA350>\n",
      "0 1 2 3 4 5 6 7 8 9 10 11 12 13 14 15 "
     ]
    }
   ],
   "source": [
    "array2 = np.arange(16)\n",
    "array2 = array2.reshape(4,4)\n",
    "array2 = array2.flat\n",
    "print(\"Transpose Array : \\n\",array2)\n",
    "\n",
    "for i in array2:\n",
    "    print(i,end=\" \")"
   ]
  },
  {
   "cell_type": "code",
   "execution_count": 57,
   "id": "11618a1b",
   "metadata": {},
   "outputs": [
    {
     "name": "stdout",
     "output_type": "stream",
     "text": [
      "0 1 2 3 4 5 6 7 8 9 10 11 12 13 14 15 \n",
      "Dimention Of Array:  2\n",
      "\n",
      "Total size Occupie Of Array:  64\n"
     ]
    }
   ],
   "source": [
    "array2 = np.arange(16)\n",
    "array2 = array2.reshape(4,4)\n",
    "\n",
    "for i in array2.flat:\n",
    "    print(i,end=\" \")\n",
    "print(\"\\nDimention Of Array: \",array2.ndim)\n",
    "print(\"\\nTotal size Occupie Of Array: \",array2.nbytes)"
   ]
  },
  {
   "cell_type": "code",
   "execution_count": 64,
   "id": "1c172a25",
   "metadata": {},
   "outputs": [
    {
     "name": "stdout",
     "output_type": "stream",
     "text": [
      "[[0 1 2]\n",
      " [3 4 5]\n",
      " [6 7 8]]\n",
      "Array Of Max Index :  8\n",
      "Array Of Min Index :  0\n"
     ]
    }
   ],
   "source": [
    "ar = np.arange(9)\n",
    "ar = ar.reshape(3,3)\n",
    "print(ar)\n",
    "ar = ar.argmax()\n",
    "print(\"Array Of Max Index : \",ar)\n",
    "\n",
    "ar = ar.argmin()\n",
    "print(\"Array Of Min Index : \",ar)"
   ]
  },
  {
   "cell_type": "code",
   "execution_count": 70,
   "id": "09b9a7aa",
   "metadata": {},
   "outputs": [
    {
     "name": "stdout",
     "output_type": "stream",
     "text": [
      "[[1 4 2]\n",
      " [7 3 6]\n",
      " [2 4 9]]\n",
      "Array Of Max Index :  [1 0 2]\n"
     ]
    }
   ],
   "source": [
    "ar = np.array([[1,4,2],[7,3,6],[2,4,9]])\n",
    "print(ar)\n",
    "ar = ar.argmax(axis=0)\n",
    "print(\"Array Of Max Index : \",ar)\n"
   ]
  },
  {
   "cell_type": "code",
   "execution_count": 71,
   "id": "cde41fc8",
   "metadata": {},
   "outputs": [
    {
     "name": "stdout",
     "output_type": "stream",
     "text": [
      "[[1 4 2]\n",
      " [7 3 6]\n",
      " [2 4 9]]\n",
      "Array Of Max Index :  [0 1 0]\n"
     ]
    }
   ],
   "source": [
    "ar = np.array([[1,4,2],[7,3,6],[2,4,9]])\n",
    "print(ar)\n",
    "ar = ar.argmin(axis=0)\n",
    "print(\"Array Of Max Index : \",ar)\n"
   ]
  },
  {
   "cell_type": "code",
   "execution_count": 74,
   "id": "61dbad8b",
   "metadata": {},
   "outputs": [
    {
     "data": {
      "text/plain": [
       "array([[0, 2, 1],\n",
       "       [1, 2, 0],\n",
       "       [0, 1, 2]], dtype=int64)"
      ]
     },
     "execution_count": 74,
     "metadata": {},
     "output_type": "execute_result"
    }
   ],
   "source": [
    "ar = np.array([[1,4,2],[7,3,6],[2,4,9]])\n",
    "\n",
    "ar.argsort(axis=1)"
   ]
  },
  {
   "cell_type": "code",
   "execution_count": 75,
   "id": "ea8b4b14",
   "metadata": {},
   "outputs": [
    {
     "data": {
      "text/plain": [
       "array([1, 4, 2, 7, 3, 6, 2, 4, 9])"
      ]
     },
     "execution_count": 75,
     "metadata": {},
     "output_type": "execute_result"
    }
   ],
   "source": [
    "ar.ravel()"
   ]
  },
  {
   "cell_type": "code",
   "execution_count": 77,
   "id": "028fcaa4",
   "metadata": {},
   "outputs": [
    {
     "data": {
      "text/plain": [
       "array([[1, 4, 2],\n",
       "       [7, 3, 6],\n",
       "       [2, 4, 9]])"
      ]
     },
     "execution_count": 77,
     "metadata": {},
     "output_type": "execute_result"
    }
   ],
   "source": [
    "ar.reshape(3,3)"
   ]
  },
  {
   "cell_type": "code",
   "execution_count": 8,
   "id": "6f5ec971",
   "metadata": {},
   "outputs": [
    {
     "name": "stdout",
     "output_type": "stream",
     "text": [
      "Python Size: 140\n",
      "Numpy Size :  20\n"
     ]
    }
   ],
   "source": [
    "import sys\n",
    "import numpy as np\n",
    "\n",
    "\n",
    "py_arr = [1,2,3,4,5]\n",
    "# py_arr = [1,2]\n",
    "np_arr = np.array(py_arr)\n",
    "\n",
    "print(\"Python Size:\",sys.getsizeof(1) * len(py_arr))\n",
    "print(\"Numpy Size : \",np_arr.itemsize * np_arr.size)"
   ]
  },
  {
   "cell_type": "code",
   "execution_count": null,
   "id": "5ba1f2d7",
   "metadata": {},
   "outputs": [],
   "source": []
  },
  {
   "cell_type": "code",
   "execution_count": null,
   "id": "5afa9a2d",
   "metadata": {},
   "outputs": [],
   "source": []
  },
  {
   "cell_type": "code",
   "execution_count": null,
   "id": "7859de40",
   "metadata": {},
   "outputs": [],
   "source": []
  },
  {
   "cell_type": "code",
   "execution_count": null,
   "id": "d5146557",
   "metadata": {},
   "outputs": [],
   "source": []
  },
  {
   "cell_type": "code",
   "execution_count": null,
   "id": "260ff5c6",
   "metadata": {},
   "outputs": [],
   "source": []
  },
  {
   "cell_type": "code",
   "execution_count": null,
   "id": "2f858a07",
   "metadata": {},
   "outputs": [],
   "source": []
  },
  {
   "cell_type": "code",
   "execution_count": null,
   "id": "dc442250",
   "metadata": {},
   "outputs": [],
   "source": []
  }
 ],
 "metadata": {
  "kernelspec": {
   "display_name": "Python 3 (ipykernel)",
   "language": "python",
   "name": "python3"
  },
  "language_info": {
   "codemirror_mode": {
    "name": "ipython",
    "version": 3
   },
   "file_extension": ".py",
   "mimetype": "text/x-python",
   "name": "python",
   "nbconvert_exporter": "python",
   "pygments_lexer": "ipython3",
   "version": "3.9.13"
  }
 },
 "nbformat": 4,
 "nbformat_minor": 5
}
